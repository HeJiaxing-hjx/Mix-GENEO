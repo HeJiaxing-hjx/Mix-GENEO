{
 "cells": [
  {
   "cell_type": "markdown",
   "id": "7a52def0-68b5-45af-8731-d9215ca39682",
   "metadata": {},
   "source": [
    "Multi-GENEO MNIST classification"
   ]
  },
  {
   "cell_type": "code",
   "execution_count": 1,
   "id": "9f8c4d2e-09be-4233-bd5c-d3feac393b49",
   "metadata": {},
   "outputs": [],
   "source": [
    "import numpy as np\n",
    "import os\n",
    "import matplotlib.pyplot as plt\n",
    "from tqdm import tqdm\n",
    "from sklearn.discriminant_analysis import LinearDiscriminantAnalysis as LDA\n",
    "from sklearn.decomposition import PCA\n",
    "from sklearn import svm\n",
    "from sklearn import metrics\n",
    "import tensorflow as tf"
   ]
  },
  {
   "cell_type": "code",
   "execution_count": 2,
   "id": "d4926c6b-6bcf-467c-950f-a6f2295ebc75",
   "metadata": {},
   "outputs": [],
   "source": [
    "data = tf.keras.datasets.mnist\n",
    "(x_train, y_train), (x_test, y_test) = data.load_data()"
   ]
  },
  {
   "cell_type": "code",
   "execution_count": 3,
   "id": "73c961ee-64ba-4f2d-aed7-a566b1bafac0",
   "metadata": {},
   "outputs": [],
   "source": [
    "def get_file_both_h0_h1(path1,path2, indice):\n",
    "    path_h0_train = path1 + \"multiland_output_h0/\"\n",
    "    path_h1_train = path1 + \"multiland_output_h1/\"\n",
    "    path_h0_test = path2 + \"multiland_output_h0/\"\n",
    "    path_h1_test = path2 + \"multiland_output_h1/\"\n",
    "    X_train = []\n",
    "    X_test = []\n",
    "    multiland_files_train_h0 = os.listdir(path_h0_train)\n",
    "    multiland_files_train_h1 = os.listdir(path_h1_train)\n",
    "    multiland_files_test_h0 = os.listdir(path_h0_test)\n",
    "    multiland_files_test_h1 = os.listdir(path_h1_test)\n",
    "    multiland_files_train_h0.sort(key=lambda x: int(x[9:].split('_')[0]))\n",
    "    multiland_files_train_h1.sort(key=lambda x: int(x[9:].split('_')[0]))\n",
    "    multiland_files_test_h0.sort(key=lambda x: int(x[9:].split('_')[0]))\n",
    "    multiland_files_test_h1.sort(key=lambda x: int(x[9:].split('_')[0]))\n",
    "    for x,y in zip(multiland_files_train_h0,multiland_files_train_h1):\n",
    "        multi_train_h0 = np.load(path_h0_train+x)[indice]\n",
    "        multi_train_h1 = np.load(path_h1_train+y)[indice]\n",
    "        multi_train = np.append(multi_train_h0,multi_train_h1,axis=0)\n",
    "        X_train.append(multi_train.flatten())\n",
    "\n",
    "    for z,w in zip(multiland_files_test_h0,multiland_files_test_h1):\n",
    "        multi_test_h0 = np.load(path_h0_test+z)[indice]\n",
    "        multi_test_h1 = np.load(path_h1_test+w)[indice]\n",
    "        multi_test = np.append(multi_test_h0,multi_test_h1,axis=0)\n",
    "        X_test.append(multi_test.flatten())\n",
    "    print(len(X_train))\n",
    "    x_train = np.array(X_train)\n",
    "    x_test = np.array(X_test)\n",
    "\n",
    "    \"\"\"\n",
    "    LDA\n",
    "    \"\"\"\n",
    "    lr = LDA()\n",
    "    lr.fit(x_train, y_train)\n",
    "    print(\"LDAaccuracy:\", lr.score(x_test, y_test))\n",
    "    \"\"\"\n",
    "    LDA+PCA\n",
    "    \"\"\"\n",
    "    pca = PCA(n_components='mle')\n",
    "    #pca = PCA(n_components=20)\n",
    "    pca.fit(x_train)\n",
    "    print(\"pca.components_\",pca.components_.shape)\n",
    "    x_train_reduction = pca.transform(x_train)\n",
    "    print(\"chang_x_train\",x_train_reduction.shape)\n",
    "    x_test_reduction = pca.transform(x_test)\n",
    "    print(\"chang_x_test\", x_train_reduction.shape)\n",
    "    lr = LDA()\n",
    "    lr.fit(x_train_reduction, y_train)\n",
    "    #test_accuracy_lda_pca.append(lr.score(x_test_reduction, y_test))\n",
    "    print(\"pca+lda\", lr.score(x_test_reduction, y_test))\n",
    "    \"\"\"\n",
    "    PCA+SVM\n",
    "    \"\"\"\n",
    "    clf_svc = svm.SVC()\n",
    "    clf_svc.fit(x_train_reduction, y_train)\n",
    "    #test_svc_pca.append(clf_svc.score(x_test_reduction,y_test))\n",
    "    print(\"pca+svc:\",clf_svc.score(x_test_reduction,y_test))"
   ]
  },
  {
   "cell_type": "code",
   "execution_count": 4,
   "id": "956b11fa-a69e-49a7-a55a-dd28d6f91c3e",
   "metadata": {},
   "outputs": [],
   "source": [
    "path_train = '/home/hjx/Mix_GENEO/train_mnist_multiGENEO/multiland_output/'\n",
    "path_test = '/home/hjx/Mix_GENEO/test_mnist_multiGENEO/multiland_output/'"
   ]
  },
  {
   "cell_type": "code",
   "execution_count": 5,
   "id": "1aae945c-c39d-4bba-991b-c24e2dee663c",
   "metadata": {},
   "outputs": [
    {
     "name": "stdout",
     "output_type": "stream",
     "text": [
      "60000\n",
      "LDAaccuracy: 0.4267\n",
      "pca.components_ (952, 1352)\n",
      "chang_x_train (60000, 952)\n",
      "chang_x_test (60000, 952)\n",
      "pca+lda 0.4293\n",
      "pca+svc: 0.4342\n"
     ]
    }
   ],
   "source": [
    "get_file_both_h0_h1(path_train,path_test, 1)"
   ]
  },
  {
   "cell_type": "code",
   "execution_count": 6,
   "id": "31638324-00e1-4c92-ac84-e85dfb8dfbb7",
   "metadata": {},
   "outputs": [],
   "source": [
    "def get_file_h0(path1, path2, indice):\n",
    "    path_h0_train = path1 + \"multiland_output_h0/\"\n",
    "    path_h0_test = path2 + \"multiland_output_h0/\"\n",
    "    X_train = []\n",
    "    X_test = []\n",
    "    multiland_files_train_h0 = os.listdir(path_h0_train)\n",
    "    multiland_files_test_h0 = os.listdir(path_h0_test)\n",
    "    multiland_files_train_h0.sort(key=lambda x: int(x[9:].split('_')[0]))\n",
    "    multiland_files_test_h0.sort(key=lambda x: int(x[9:].split('_')[0]))\n",
    "    for x in multiland_files_train_h0:\n",
    "        multi_train_h0 = np.load(path_h0_train+x)[indice]\n",
    "        X_train.append(multi_train_h0.flatten())\n",
    "    for z in multiland_files_test_h0:\n",
    "        multi_test_h0 = np.load(path_h0_test+z)[indice]\n",
    "        X_test.append(multi_test_h0.flatten())\n",
    "    print(len(X_train))\n",
    "    x_train = np.array(X_train)\n",
    "    x_test = np.array(X_test)\n",
    "    \n",
    "    \"\"\"\n",
    "    LDA\n",
    "    \"\"\"\n",
    "    lr = LDA()\n",
    "    lr.fit(x_train, y_train)\n",
    "    print(\"LDAaccuracy:\", lr.score(x_test, y_test))\n",
    "    \"\"\"\n",
    "    LDA+PCA\n",
    "    \"\"\"\n",
    "    pca = PCA(n_components='mle')\n",
    "    #pca = PCA(n_components=20)\n",
    "    pca.fit(x_train)\n",
    "    print(\"pca.components_\",pca.components_.shape)\n",
    "    x_train_reduction = pca.transform(x_train)\n",
    "    print(\"chang_x_train\",x_train_reduction.shape)\n",
    "    x_test_reduction = pca.transform(x_test)\n",
    "    print(\"chang_x_test\", x_train_reduction.shape)\n",
    "    lr = LDA()\n",
    "    lr.fit(x_train_reduction, y_train)\n",
    "    #test_accuracy_lda_pca.append(lr.score(x_test_reduction, y_test))\n",
    "    print(\"pca+lda\", lr.score(x_test_reduction, y_test))\n",
    "    \"\"\"\n",
    "    PCA+SVM\n",
    "    \"\"\"\n",
    "    clf_svc = svm.SVC()\n",
    "    clf_svc.fit(x_train_reduction, y_train)\n",
    "    #test_svc_pca.append(clf_svc.score(x_test_reduction,y_test))\n",
    "    print(\"pca+svc:\",clf_svc.score(x_test_reduction,y_test))"
   ]
  },
  {
   "cell_type": "code",
   "execution_count": 7,
   "id": "a6ba6056-056b-4c40-b93a-f914bbe1c09c",
   "metadata": {},
   "outputs": [
    {
     "name": "stdout",
     "output_type": "stream",
     "text": [
      "60000\n",
      "LDAaccuracy: 0.394\n",
      "pca.components_ (488, 676)\n",
      "chang_x_train (60000, 488)\n",
      "chang_x_test (60000, 488)\n",
      "pca+lda 0.396\n",
      "pca+svc: 0.3967\n"
     ]
    }
   ],
   "source": [
    "get_file_h0(path_train,path_test, 1)"
   ]
  },
  {
   "cell_type": "code",
   "execution_count": 8,
   "id": "36b9495f-598e-4140-90bc-c1761e728810",
   "metadata": {},
   "outputs": [],
   "source": [
    "def get_file_h1(path1, path2, indice):\n",
    "    path_h1_train = path1 + \"multiland_output_h1/\"\n",
    "    path_h1_test = path2 + \"multiland_output_h1/\"\n",
    "    X_train = []\n",
    "    X_test = []\n",
    "    multiland_files_train_h1 = os.listdir(path_h1_train)\n",
    "    multiland_files_test_h1 = os.listdir(path_h1_test)\n",
    "    multiland_files_train_h1.sort(key=lambda x: int(x[9:].split('_')[0]))\n",
    "    multiland_files_test_h1.sort(key=lambda x: int(x[9:].split('_')[0]))\n",
    "    for x in multiland_files_train_h1:\n",
    "        multi_train_h1 = np.load(path_h1_train+x)[indice]\n",
    "        X_train.append(multi_train_h1.flatten())\n",
    "    for z in multiland_files_test_h1:\n",
    "        multi_test_h1 = np.load(path_h1_test+z)[indice]\n",
    "        X_test.append(multi_test_h1.flatten())\n",
    "    print(len(X_train))\n",
    "    x_train = np.array(X_train)\n",
    "    x_test = np.array(X_test)\n",
    "    \n",
    "    \"\"\"\n",
    "    LDA\n",
    "    \"\"\"\n",
    "    lr = LDA()\n",
    "    lr.fit(x_train, y_train)\n",
    "    print(\"LDAaccuracy:\", lr.score(x_test, y_test))\n",
    "    \"\"\"\n",
    "    LDA+PCA\n",
    "    \"\"\"\n",
    "    pca = PCA(n_components='mle')\n",
    "    #pca = PCA(n_components=20)\n",
    "    pca.fit(x_train)\n",
    "    print(\"pca.components_\",pca.components_.shape)\n",
    "    x_train_reduction = pca.transform(x_train)\n",
    "    print(\"chang_x_train\",x_train_reduction.shape)\n",
    "    x_test_reduction = pca.transform(x_test)\n",
    "    print(\"chang_x_test\", x_train_reduction.shape)\n",
    "    lr = LDA()\n",
    "    lr.fit(x_train_reduction, y_train)\n",
    "    #test_accuracy_lda_pca.append(lr.score(x_test_reduction, y_test))\n",
    "    print(\"pca+lda\", lr.score(x_test_reduction, y_test))\n",
    "    \"\"\"\n",
    "    PCA+SVM\n",
    "    \"\"\"\n",
    "    clf_svc = svm.SVC()\n",
    "    clf_svc.fit(x_train_reduction, y_train)\n",
    "    #test_svc_pca.append(clf_svc.score(x_test_reduction,y_test))\n",
    "    print(\"pca+svc:\",clf_svc.score(x_test_reduction,y_test))"
   ]
  },
  {
   "cell_type": "code",
   "execution_count": 9,
   "id": "1af7aa13-79e7-44d2-b212-ec8be4a076f2",
   "metadata": {},
   "outputs": [
    {
     "name": "stdout",
     "output_type": "stream",
     "text": [
      "60000\n",
      "LDAaccuracy: 0.1914\n",
      "pca.components_ (464, 676)\n",
      "chang_x_train (60000, 464)\n",
      "chang_x_test (60000, 464)\n",
      "pca+lda 0.1908\n",
      "pca+svc: 0.1932\n"
     ]
    }
   ],
   "source": [
    "get_file_h1(path_train,path_test, 1)"
   ]
  },
  {
   "cell_type": "markdown",
   "id": "f02193c0-0896-4743-a617-b4fddebcec8d",
   "metadata": {},
   "source": [
    "Number 0~9 Mean Multilandscpe"
   ]
  },
  {
   "cell_type": "code",
   "execution_count": 10,
   "id": "ebbb2bde-d2e3-437b-841d-1a749ac6b45a",
   "metadata": {},
   "outputs": [],
   "source": [
    "\n",
    "# land_h1_9 = []\n",
    "for i in range(10):\n",
    "    locals()['land_train_h0_'+str(i)] = []\n",
    "    locals()['land_train_h1_'+str(i)] = []\n",
    "    locals()['land_test_h0_'+str(i)] = []\n",
    "    locals()['land_test_h1_'+str(i)] = []\n",
    "multifiles_train_h0=path_train + \"multiland_output_h0/\"\n",
    "multifiles_train_h1=path_train + \"multiland_output_h1/\"\n",
    "\n",
    "for index, value in enumerate(y_train):\n",
    "    #print(index)\n",
    "    indice = 1\n",
    "    locals()['land_train_h1_'+str(value)].append(np.load(multifiles_train_h1+'x_ctrain_{}_H1.npy'.format(index))[indice])\n",
    "    locals()['land_train_h0_'+str(value)].append(np.load(multifiles_train_h0+'x_ctrain_{}_H0.npy'.format(index))[indice])\n",
    "\n",
    "for i in range(10):\n",
    "    locals()['land_np_train_h0_'+str(i)] = np.array(locals()['land_train_h0_'+str(i)])\n",
    "    locals()['land_np_train_h1_'+str(i)] = np.array(locals()['land_train_h1_'+str(i)])\n",
    "    locals()['land_np_train_h0_'+str(i)] = np.mean(locals()['land_np_train_h0_'+str(i)],axis=0)\n",
    "    locals()['land_np_train_h1_'+str(i)] = np.mean(locals()['land_np_train_h1_'+str(i)],axis=0)\n"
   ]
  },
  {
   "cell_type": "code",
   "execution_count": 11,
   "id": "7ba91d97-0ce2-447d-aea6-79283d1bbbd2",
   "metadata": {},
   "outputs": [
    {
     "data": {
      "image/png": "[encoded data removed]",
      "text/plain": [
       "<Figure size 1300x500 with 10 Axes>"
      ]
     },
     "metadata": {},
     "output_type": "display_data"
    }
   ],
   "source": [
    "import matplotlib.pyplot as plt\n",
    "f, axes = plt.subplots(2,5,figsize=(13,5))\n",
    "for i in range(10):\n",
    "    ax = plt.subplot(2,5,i+1)\n",
    "    ax.set_yticks([0,13, 26])\n",
    "    ax.set_xticks([0,13, 26])\n",
    "    ax.set_yticklabels([0,13, 26])\n",
    "    ax.set_xticklabels([26,13, 0])\n",
    "    ax.set_xlabel(\"G0\",fontsize=8)\n",
    "    ax.set_ylabel(\"Id\",fontsize=8)\n",
    "    ax.set_title(f\"{i} H1 Average Landscape\", fontsize=8)\n",
    "    ax.imshow(locals()['land_np_train_h1_'+str(i)], cmap=\"viridis\", vmax=1, vmin=0)"
   ]
  },
  {
   "cell_type": "code",
   "execution_count": 12,
   "id": "daa3b9c9-9605-46d8-888b-5e33a8feaa5a",
   "metadata": {},
   "outputs": [
    {
     "data": {
      "image/png": "[encoded data removed]",
      "text/plain": [
       "<Figure size 1500x500 with 10 Axes>"
      ]
     },
     "metadata": {},
     "output_type": "display_data"
    }
   ],
   "source": [
    "f, axes = plt.subplots(2,5,figsize=(15,5))\n",
    "for i in range(10):\n",
    "    ax = plt.subplot(2,5,i+1)\n",
    "    ax.set_yticks([0,13, 26])\n",
    "    ax.set_xticks([0,13, 26])\n",
    "    ax.set_yticklabels([0,13, 26])\n",
    "    ax.set_xticklabels([26,13, 0])\n",
    "    ax.set_xlabel(\"G0\",fontsize=8)\n",
    "    ax.set_ylabel(\"Id\",fontsize=8)\n",
    "    ax.set_title(f\"{i} H0 Average Landscape\", fontsize=8)\n",
    "    ax.imshow(locals()['land_np_train_h0_'+str(i)], cmap=\"viridis\", vmax=20, vmin=0)"
   ]
  },
  {
   "cell_type": "markdown",
   "id": "9a7f859d-eab7-4030-b134-0987a9d0ac38",
   "metadata": {},
   "source": [
    "Binary Classification"
   ]
  },
  {
   "cell_type": "code",
   "execution_count": 13,
   "id": "6a1a343f-9df8-44ff-9c4f-68bc3206e852",
   "metadata": {},
   "outputs": [],
   "source": [
    "from sklearn import svm\n",
    "\n",
    "multifiles_train_h0=path_train + \"multiland_output_h0/\"\n",
    "multifiles_train_h1=path_train + \"multiland_output_h1/\"\n",
    "multifiles_test_h0=path_test + \"multiland_output_h0/\"\n",
    "multifiles_test_h1=path_test + \"multiland_output_h1/\"\n",
    "\n",
    "def compare_number(index1,index2,indice):\n",
    "    num1_train = np.sum(y_train==index1)\n",
    "    num2_train = np.sum(y_train==index2)\n",
    "    num1_test = np.sum(y_test==index1)\n",
    "    num2_test = np.sum(y_test==index2)\n",
    "    Y_train = np.zeros(num1_train+num2_train)\n",
    "    Y_train[num1_train:]=1\n",
    "    Y_test = np.zeros(num1_test+num2_test)\n",
    "    Y_test[num1_test:]=1\n",
    "    Itr1 = np.where(y_train==index1)\n",
    "    Itr2 = np.where(y_train==index2)\n",
    "    Ite1 = np.where(y_test==index1)\n",
    "    Ite2 = np.where(y_test==index2)\n",
    "    X_train = []\n",
    "    X_test = []\n",
    "    for j in Itr1[0]:\n",
    "        #print(j)\n",
    "        multi_tr_h0 = np.load(multifiles_train_h0+'x_ctrain_{}_H0.npy'.format(j))[indice]\n",
    "        multi_tr_h1 = np.load(multifiles_train_h1+'x_ctrain_{}_H1.npy'.format(j))[indice]\n",
    "        multi_train = np.append(multi_tr_h0,multi_tr_h1,axis=0)\n",
    "        X_train.append(multi_train.flatten())\n",
    "        #print(X_tr_h0)\n",
    "    for j in Itr2[0]:\n",
    "        multi_tr_h0 = np.load(multifiles_train_h0+'x_ctrain_{}_H0.npy'.format(j))[indice]\n",
    "        multi_tr_h1 = np.load(multifiles_train_h1+'x_ctrain_{}_H1.npy'.format(j))[indice]\n",
    "        multi_train = np.append(multi_tr_h0,multi_tr_h1,axis=0)\n",
    "        X_train.append(multi_train.flatten())\n",
    "    for j in Ite1[0]:\n",
    "        multi_te_h0 = np.load(multifiles_test_h0+'x_ctrain_{}_H0.npy'.format(j))[indice]\n",
    "        multi_te_h1 = np.load(multifiles_test_h1+'x_ctrain_{}_H1.npy'.format(j))[indice]\n",
    "        multi_test = np.append(multi_te_h0,multi_te_h1,axis=0)\n",
    "        X_test.append(multi_test.flatten())\n",
    "    for j in Ite2[0]:\n",
    "        multi_te_h0 = np.load(multifiles_test_h0+'x_ctrain_{}_H0.npy'.format(j))[indice]\n",
    "        multi_te_h1 = np.load(multifiles_test_h1+'x_ctrain_{}_H1.npy'.format(j))[indice]\n",
    "        multi_test = np.append(multi_te_h0,multi_te_h1,axis=0)\n",
    "        X_test.append(multi_test.flatten())\n",
    "    \"\"\"\n",
    "    LDA\n",
    "    \"\"\"\n",
    "    lr = LDA()\n",
    "    lr.fit(X_train, Y_train)\n",
    "    print(\"LDAaccuracy:\", lr.score(X_test, Y_test))\n",
    "    \"\"\"\n",
    "    LDA+PCA\n",
    "    \"\"\"\n",
    "    pca = PCA(n_components=0.98)\n",
    "    #pca = PCA(n_components=20)\n",
    "    pca.fit(X_train)\n",
    "    print(\"pca.components_\",pca.components_.shape)\n",
    "    X_train_reduction = pca.transform(X_train)\n",
    "    print(\"chang_x_train\",X_train_reduction.shape)\n",
    "    X_test_reduction = pca.transform(X_test)\n",
    "    print(\"chang_x_test\", X_train_reduction.shape)\n",
    "    lr = LDA()\n",
    "    lr.fit(X_train_reduction, Y_train)\n",
    "    #test_accuracy_lda_pca.append(lr.score(x_test_reduction, y_test))\n",
    "    print(\"pca+lda\", lr.score(X_test_reduction, Y_test))\n",
    "    \"\"\"\n",
    "    PCA+SVM\n",
    "    \"\"\"\n",
    "    clf_svc = svm.SVC()\n",
    "    clf_svc.fit(X_train_reduction, Y_train)\n",
    "    print(\"svc:\", clf_svc.score(X_test_reduction, Y_test))"
   ]
  },
  {
   "cell_type": "code",
   "execution_count": 14,
   "id": "b7af14bd-6a5f-4a6c-b8b5-3611788b634d",
   "metadata": {},
   "outputs": [
    {
     "name": "stdout",
     "output_type": "stream",
     "text": [
      "LDAaccuracy: 0.9914893617021276\n",
      "pca.components_ (8, 1352)\n",
      "chang_x_train (12665, 8)\n",
      "chang_x_test (12665, 8)\n",
      "pca+lda 0.9730496453900709\n",
      "svc: 0.9867612293144208\n"
     ]
    }
   ],
   "source": [
    "compare_number(0,1,1)"
   ]
  },
  {
   "cell_type": "code",
   "execution_count": 15,
   "id": "1e74fb30-3fb2-4ed3-8558-ab2b58869e94",
   "metadata": {},
   "outputs": [
    {
     "name": "stdout",
     "output_type": "stream",
     "text": [
      "LDAaccuracy: 0.6944585663446874\n",
      "pca.components_ (23, 1352)\n",
      "chang_x_train (11867, 23)\n",
      "chang_x_test (11867, 23)\n",
      "pca+lda 0.6690391459074733\n",
      "svc: 0.7031011692933401\n"
     ]
    }
   ],
   "source": [
    "compare_number(6,9,1)"
   ]
  },
  {
   "cell_type": "code",
   "execution_count": 16,
   "id": "c24ca9f1-f139-4366-9727-5732f957e9a2",
   "metadata": {},
   "outputs": [
    {
     "name": "stdout",
     "output_type": "stream",
     "text": [
      "LDAaccuracy: 0.7846153846153846\n",
      "pca.components_ (40, 1352)\n",
      "chang_x_train (12873, 40)\n",
      "chang_x_test (12873, 40)\n",
      "pca+lda 0.7566433566433567\n",
      "svc: 0.7902097902097902\n"
     ]
    }
   ],
   "source": [
    "compare_number(1,3,1)"
   ]
  },
  {
   "cell_type": "code",
   "execution_count": 17,
   "id": "d1596015-9b90-45d9-970f-527a31c0dd16",
   "metadata": {},
   "outputs": [
    {
     "name": "stdout",
     "output_type": "stream",
     "text": [
      "LDAaccuracy: 0.7864077669902912\n",
      "pca.components_ (35, 1352)\n",
      "chang_x_train (13007, 35)\n",
      "chang_x_test (13007, 35)\n",
      "pca+lda 0.7702265372168284\n",
      "svc: 0.787332408691632\n"
     ]
    }
   ],
   "source": [
    "compare_number(1,7,1)"
   ]
  },
  {
   "cell_type": "code",
   "execution_count": 18,
   "id": "6c2fba55-e273-46bc-a76c-82865ba15844",
   "metadata": {},
   "outputs": [
    {
     "name": "stdout",
     "output_type": "stream",
     "text": [
      "LDAaccuracy: 0.6537708129285015\n",
      "pca.components_ (31, 1352)\n",
      "chang_x_train (12089, 31)\n",
      "chang_x_test (12089, 31)\n",
      "pca+lda 0.6571988246816847\n",
      "svc: 0.6606268364348677\n"
     ]
    }
   ],
   "source": [
    "compare_number(2,3,1)"
   ]
  },
  {
   "cell_type": "code",
   "execution_count": 19,
   "id": "edc0e2d7-a26b-4ecd-9a4a-4382d0ebe85c",
   "metadata": {},
   "outputs": [
    {
     "name": "stdout",
     "output_type": "stream",
     "text": [
      "LDAaccuracy: 0.9599358974358975\n",
      "pca.components_ (11, 1352)\n",
      "chang_x_train (11344, 11)\n",
      "chang_x_test (11344, 11)\n",
      "pca+lda 0.9551282051282052\n",
      "svc: 0.9610042735042735\n"
     ]
    }
   ],
   "source": [
    "compare_number(0,5,1)"
   ]
  },
  {
   "cell_type": "code",
   "execution_count": 20,
   "id": "2306e6ab-6b0e-467b-b9a2-c3bbc0c064a4",
   "metadata": {},
   "outputs": [
    {
     "data": {
      "image/png": "[encoded data removed]",
      "text/plain": [
       "<Figure size 1500x500 with 5 Axes>"
      ]
     },
     "metadata": {},
     "output_type": "display_data"
    }
   ],
   "source": [
    "f, axes = plt.subplots(1,5,figsize=(15,5))\n",
    "L = [0,1,3,6,9]\n",
    "J=  [1,2,3,4,5]\n",
    "for l,j in zip(L,J):\n",
    "    ax = plt.subplot(1,5,j)\n",
    "    ax.set_yticks([0,13, 26])\n",
    "    ax.set_xticks([0,13, 26])\n",
    "    ax.set_yticklabels([0,13, 26])\n",
    "    ax.set_xticklabels([26,13, 0])\n",
    "    ax.set_xlabel(\"G0\",fontsize=8)\n",
    "    ax.set_ylabel(\"Id\",fontsize=8)\n",
    "    ax.set_title(f\"{l} H0 Average Landscape\", fontsize=8)\n",
    "    ax.imshow(locals()['land_np_train_h0_'+str(l)], cmap=\"viridis\", vmax=20, vmin=0)"
   ]
  },
  {
   "cell_type": "code",
   "execution_count": 21,
   "id": "c789735b-e588-40b9-81b1-f10d4ae04cda",
   "metadata": {},
   "outputs": [
    {
     "data": {
      "image/png": "[encoded data removed]",
      "text/plain": [
       "<Figure size 1500x500 with 5 Axes>"
      ]
     },
     "metadata": {},
     "output_type": "display_data"
    }
   ],
   "source": [
    "f, axes = plt.subplots(1,5,figsize=(15,5))\n",
    "L = [0,1,3,6,9]\n",
    "J=  [1,2,3,4,5]\n",
    "for l,j in zip(L,J):\n",
    "    ax = plt.subplot(1,5,j)\n",
    "    ax.set_yticks([0,13, 26])\n",
    "    ax.set_xticks([0,13, 26])\n",
    "    ax.set_yticklabels([0,13, 26])\n",
    "    ax.set_xticklabels([26,13, 0])\n",
    "    ax.set_xlabel(\"G0\",fontsize=8)\n",
    "    ax.set_ylabel(\"Id\",fontsize=8)\n",
    "    ax.set_title(f\"{l} H0 Average Landscape\", fontsize=8)\n",
    "    ax.imshow(locals()['land_np_train_h1_'+str(l)], cmap=\"viridis\", vmax=1, vmin=0)"
   ]
  },
  {
   "cell_type": "code",
   "execution_count": 22,
   "id": "09aa7ed5-c019-4fe7-906e-682d94e73e79",
   "metadata": {},
   "outputs": [],
   "source": [
    "from sklearn import svm\n",
    "\n",
    "multifiles_train_h0=path_train + \"multiland_output_h0/\"\n",
    "multifiles_test_h0=path_test + \"multiland_output_h0/\"\n",
    "\n",
    "def compare_number_h0(index1,index2,indice):\n",
    "    num1_train = np.sum(y_train==index1)\n",
    "    num2_train = np.sum(y_train==index2)\n",
    "    num1_test = np.sum(y_test==index1)\n",
    "    num2_test = np.sum(y_test==index2)\n",
    "    Y_train = np.zeros(num1_train+num2_train)\n",
    "    Y_train[num1_train:]=1\n",
    "    Y_test = np.zeros(num1_test+num2_test)\n",
    "    Y_test[num1_test:]=1\n",
    "    Itr1 = np.where(y_train==index1)\n",
    "    Itr2 = np.where(y_train==index2)\n",
    "    Ite1 = np.where(y_test==index1)\n",
    "    Ite2 = np.where(y_test==index2)\n",
    "    X_train = []\n",
    "    X_test = []\n",
    "    for j in Itr1[0]:\n",
    "        #print(j)\n",
    "        multi_tr_h0 = np.load(multifiles_train_h0+'x_ctrain_{}_H0.npy'.format(j))[indice]\n",
    "        X_train.append(multi_tr_h0.flatten())\n",
    "        #print(X_tr_h0)\n",
    "    for j in Itr2[0]:\n",
    "        multi_tr_h0 = np.load(multifiles_train_h0+'x_ctrain_{}_H0.npy'.format(j))[indice]\n",
    "        X_train.append(multi_tr_h0.flatten())\n",
    "    for j in Ite1[0]:\n",
    "        multi_te_h0 = np.load(multifiles_test_h0+'x_ctrain_{}_H0.npy'.format(j))[indice]\n",
    "        X_test.append(multi_te_h0.flatten())\n",
    "    for j in Ite2[0]:\n",
    "        multi_te_h0 = np.load(multifiles_test_h0+'x_ctrain_{}_H0.npy'.format(j))[indice]\n",
    "        X_test.append(multi_te_h0.flatten())\n",
    "    \"\"\"\n",
    "    LDA\n",
    "    \"\"\"\n",
    "    lr = LDA()\n",
    "    lr.fit(X_train, Y_train)\n",
    "    print(\"LDAaccuracy:\", lr.score(X_test, Y_test))\n",
    "    \"\"\"\n",
    "    LDA+PCA\n",
    "    \"\"\"\n",
    "    pca = PCA(n_components=0.98)\n",
    "    #pca = PCA(n_components=20)\n",
    "    pca.fit(X_train)\n",
    "    print(\"pca.components_\",pca.components_.shape)\n",
    "    X_train_reduction = pca.transform(X_train)\n",
    "    print(\"chang_x_train\",X_train_reduction.shape)\n",
    "    X_test_reduction = pca.transform(X_test)\n",
    "    print(\"chang_x_test\", X_train_reduction.shape)\n",
    "    lr = LDA()\n",
    "    lr.fit(X_train_reduction, Y_train)\n",
    "    #test_accuracy_lda_pca.append(lr.score(x_test_reduction, y_test))\n",
    "    print(\"pca+lda\", lr.score(X_test_reduction, Y_test))\n",
    "    \"\"\"\n",
    "    PCA+SVM\n",
    "    \"\"\"\n",
    "    clf_svc = svm.SVC()\n",
    "    clf_svc.fit(X_train_reduction, Y_train)\n",
    "    print(\"svc:\", clf_svc.score(X_test_reduction, Y_test))"
   ]
  },
  {
   "cell_type": "code",
   "execution_count": 23,
   "id": "46668415-9fe4-41bf-82d1-0bd024af7034",
   "metadata": {},
   "outputs": [
    {
     "name": "stdout",
     "output_type": "stream",
     "text": [
      "LDAaccuracy: 0.9905437352245863\n",
      "pca.components_ (4, 676)\n",
      "chang_x_train (12665, 4)\n",
      "chang_x_test (12665, 4)\n",
      "pca+lda 0.9494089834515367\n",
      "svc: 0.9881796690307328\n"
     ]
    }
   ],
   "source": [
    "compare_number_h0(0,1,1)"
   ]
  },
  {
   "cell_type": "code",
   "execution_count": 24,
   "id": "d96d22f6-0ed8-48e9-8266-b801bb8a6e29",
   "metadata": {},
   "outputs": [
    {
     "name": "stdout",
     "output_type": "stream",
     "text": [
      "LDAaccuracy: 0.7258741258741259\n",
      "pca.components_ (25, 676)\n",
      "chang_x_train (12873, 25)\n",
      "chang_x_test (12873, 25)\n",
      "pca+lda 0.7002331002331003\n",
      "svc: 0.7226107226107226\n"
     ]
    }
   ],
   "source": [
    "compare_number_h0(1,3,1)"
   ]
  },
  {
   "cell_type": "code",
   "execution_count": 25,
   "id": "a759d430-6817-4f29-8aba-e34a3e98efea",
   "metadata": {},
   "outputs": [
    {
     "name": "stdout",
     "output_type": "stream",
     "text": [
      "LDAaccuracy: 0.6781901372648703\n",
      "pca.components_ (13, 676)\n",
      "chang_x_train (11867, 13)\n",
      "chang_x_test (11867, 13)\n",
      "pca+lda 0.6705643111337062\n",
      "svc: 0.6858159633960346\n"
     ]
    }
   ],
   "source": [
    "compare_number_h0(6,9,1)"
   ]
  },
  {
   "cell_type": "code",
   "execution_count": 26,
   "id": "9efc5d47-8534-4dac-881e-3fc9396b5045",
   "metadata": {},
   "outputs": [],
   "source": [
    "from sklearn import svm\n",
    "\n",
    "multifiles_train_h1=path_train + \"multiland_output_h1/\"\n",
    "multifiles_test_h1=path_test + \"multiland_output_h1/\"\n",
    "\n",
    "def compare_number_h1(index1,index2,indice):\n",
    "    num1_train = np.sum(y_train==index1)\n",
    "    num2_train = np.sum(y_train==index2)\n",
    "    num1_test = np.sum(y_test==index1)\n",
    "    num2_test = np.sum(y_test==index2)\n",
    "    Y_train = np.zeros(num1_train+num2_train)\n",
    "    Y_train[num1_train:]=1\n",
    "    Y_test = np.zeros(num1_test+num2_test)\n",
    "    Y_test[num1_test:]=1\n",
    "    Itr1 = np.where(y_train==index1)\n",
    "    Itr2 = np.where(y_train==index2)\n",
    "    Ite1 = np.where(y_test==index1)\n",
    "    Ite2 = np.where(y_test==index2)\n",
    "    X_train = []\n",
    "    X_test = []\n",
    "    for j in Itr1[0]:\n",
    "        #print(j)\n",
    "        multi_tr_h1 = np.load(multifiles_train_h1+'x_ctrain_{}_H1.npy'.format(j))[indice]\n",
    "        X_train.append(multi_tr_h1.flatten())\n",
    "        #print(X_tr_h0)\n",
    "    for j in Itr2[0]:\n",
    "        multi_tr_h1 = np.load(multifiles_train_h1+'x_ctrain_{}_H1.npy'.format(j))[indice]\n",
    "        X_train.append(multi_tr_h1.flatten())\n",
    "    for j in Ite1[0]:\n",
    "        multi_te_h1 = np.load(multifiles_test_h1+'x_ctrain_{}_H1.npy'.format(j))[indice]\n",
    "        X_test.append(multi_te_h1.flatten())\n",
    "    for j in Ite2[0]:\n",
    "        multi_te_h1 = np.load(multifiles_test_h1+'x_ctrain_{}_H1.npy'.format(j))[indice]\n",
    "        X_test.append(multi_te_h1.flatten())\n",
    "    \"\"\"\n",
    "    LDA\n",
    "    \"\"\"\n",
    "    lr = LDA()\n",
    "    lr.fit(X_train, Y_train)\n",
    "    print(\"LDAaccuracy:\", lr.score(X_test, Y_test))\n",
    "    \"\"\"\n",
    "    LDA+PCA\n",
    "    \"\"\"\n",
    "    pca = PCA(n_components=0.98)\n",
    "    #pca = PCA(n_components=20)\n",
    "    pca.fit(X_train)\n",
    "    print(\"pca.components_\",pca.components_.shape)\n",
    "    X_train_reduction = pca.transform(X_train)\n",
    "    print(\"chang_x_train\",X_train_reduction.shape)\n",
    "    X_test_reduction = pca.transform(X_test)\n",
    "    print(\"chang_x_test\", X_train_reduction.shape)\n",
    "    lr = LDA()\n",
    "    lr.fit(X_train_reduction, Y_train)\n",
    "    #test_accuracy_lda_pca.append(lr.score(x_test_reduction, y_test))\n",
    "    print(\"pca+lda\", lr.score(X_test_reduction, Y_test))\n",
    "    \"\"\"\n",
    "    PCA+SVM\n",
    "    \"\"\"\n",
    "    clf_svc = svm.SVC()\n",
    "    clf_svc.fit(X_train_reduction, Y_train)\n",
    "    print(\"svc:\", clf_svc.score(X_test_reduction, Y_test))"
   ]
  },
  {
   "cell_type": "code",
   "execution_count": 27,
   "id": "03bd6db7-6906-4813-bf3d-46be5e95271b",
   "metadata": {},
   "outputs": [
    {
     "name": "stdout",
     "output_type": "stream",
     "text": [
      "LDAaccuracy: 0.6326241134751773\n",
      "pca.components_ (21, 676)\n",
      "chang_x_train (12665, 21)\n",
      "chang_x_test (12665, 21)\n",
      "pca+lda 0.6297872340425532\n",
      "svc: 0.6392434988179669\n"
     ]
    }
   ],
   "source": [
    "compare_number_h1(0,1,1)"
   ]
  },
  {
   "cell_type": "code",
   "execution_count": 28,
   "id": "06f0d8fa-266d-4853-b950-607805f57202",
   "metadata": {},
   "outputs": [
    {
     "name": "stdout",
     "output_type": "stream",
     "text": [
      "LDAaccuracy: 0.6820512820512821\n",
      "pca.components_ (20, 676)\n",
      "chang_x_train (12873, 20)\n",
      "chang_x_test (12873, 20)\n",
      "pca+lda 0.6736596736596736\n",
      "svc: 0.675990675990676\n"
     ]
    }
   ],
   "source": [
    "compare_number_h1(1,3,1)"
   ]
  },
  {
   "cell_type": "code",
   "execution_count": 29,
   "id": "e75533b4-0616-40d5-8853-fb6b5dbc0124",
   "metadata": {},
   "outputs": [
    {
     "name": "stdout",
     "output_type": "stream",
     "text": [
      "LDAaccuracy: 0.5388917132689375\n",
      "pca.components_ (21, 676)\n",
      "chang_x_train (11867, 21)\n",
      "chang_x_test (11867, 21)\n",
      "pca+lda 0.5287239450940519\n",
      "svc: 0.5236400610066091\n"
     ]
    }
   ],
   "source": [
    "compare_number_h1(6,9,1)"
   ]
  },
  {
   "cell_type": "code",
   "execution_count": null,
   "id": "6be9af65-7c5b-4af3-a4f5-f611ac77f43b",
   "metadata": {},
   "outputs": [],
   "source": []
  }
 ],
 "metadata": {
  "kernelspec": {
   "display_name": "one_env",
   "language": "python",
   "name": "one_env"
  },
  "language_info": {
   "codemirror_mode": {
    "name": "ipython",
    "version": 3
   },
   "file_extension": ".py",
   "mimetype": "text/x-python",
   "name": "python",
   "nbconvert_exporter": "python",
   "pygments_lexer": "ipython3",
   "version": "3.7.16"
  }
 },
 "nbformat": 4,
 "nbformat_minor": 5
}
