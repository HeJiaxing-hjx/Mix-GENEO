{
 "cells": [
  {
   "cell_type": "markdown",
   "id": "58579a81-0569-4d3c-9dd2-65b9084984ec",
   "metadata": {},
   "source": [
    "Mix-GENEO MNIST classification"
   ]
  },
  {
   "cell_type": "code",
   "execution_count": 1,
   "id": "9f8c4d2e-09be-4233-bd5c-d3feac393b49",
   "metadata": {},
   "outputs": [],
   "source": [
    "import numpy as np\n",
    "import os\n",
    "import matplotlib.pyplot as plt\n",
    "from tqdm import tqdm\n",
    "from sklearn.discriminant_analysis import LinearDiscriminantAnalysis as LDA\n",
    "from sklearn.decomposition import PCA\n",
    "from sklearn import svm\n",
    "from sklearn import metrics\n",
    "import tensorflow as tf"
   ]
  },
  {
   "cell_type": "code",
   "execution_count": 2,
   "id": "d4926c6b-6bcf-467c-950f-a6f2295ebc75",
   "metadata": {},
   "outputs": [],
   "source": [
    "data = tf.keras.datasets.mnist\n",
    "(x_train, y_train), (x_test, y_test) = data.load_data()"
   ]
  },
  {
   "cell_type": "code",
   "execution_count": 3,
   "id": "73c961ee-64ba-4f2d-aed7-a566b1bafac0",
   "metadata": {},
   "outputs": [],
   "source": [
    "def get_file_both_h0_h1(path1,path2, indice):\n",
    "    path_h0_train = path1 + \"multiland_output_h0/\"\n",
    "    path_h1_train = path1 + \"multiland_output_h1/\"\n",
    "    path_h0_test = path2 + \"multiland_output_h0/\"\n",
    "    path_h1_test = path2 + \"multiland_output_h1/\"\n",
    "    X_train = []\n",
    "    X_test = []\n",
    "    multiland_files_train_h0 = os.listdir(path_h0_train)\n",
    "    multiland_files_train_h1 = os.listdir(path_h1_train)\n",
    "    multiland_files_test_h0 = os.listdir(path_h0_test)\n",
    "    multiland_files_test_h1 = os.listdir(path_h1_test)\n",
    "    multiland_files_train_h0.sort(key=lambda x: int(x[9:].split('_')[0]))\n",
    "    multiland_files_train_h1.sort(key=lambda x: int(x[9:].split('_')[0]))\n",
    "    multiland_files_test_h0.sort(key=lambda x: int(x[9:].split('_')[0]))\n",
    "    multiland_files_test_h1.sort(key=lambda x: int(x[9:].split('_')[0]))\n",
    "    for x,y in zip(multiland_files_train_h0,multiland_files_train_h1):\n",
    "        multi_train_h0 = np.load(path_h0_train+x)[indice]\n",
    "        multi_train_h1 = np.load(path_h1_train+y)[indice]\n",
    "        multi_train = np.append(multi_train_h0,multi_train_h1,axis=0)\n",
    "        X_train.append(multi_train.flatten())\n",
    "\n",
    "    for z,w in zip(multiland_files_test_h0,multiland_files_test_h1):\n",
    "        multi_test_h0 = np.load(path_h0_test+z)[indice]\n",
    "        multi_test_h1 = np.load(path_h1_test+w)[indice]\n",
    "        multi_test = np.append(multi_test_h0,multi_test_h1,axis=0)\n",
    "        X_test.append(multi_test.flatten())\n",
    "    print(len(X_train))\n",
    "    x_train = np.array(X_train)\n",
    "    x_test = np.array(X_test)\n",
    "\n",
    "    \"\"\"\n",
    "    LDA\n",
    "    \"\"\"\n",
    "    lr = LDA()\n",
    "    lr.fit(x_train, y_train)\n",
    "    print(\"LDAaccuracy:\", lr.score(x_test, y_test))\n",
    "    \"\"\"\n",
    "    LDA+PCA\n",
    "    \"\"\"\n",
    "    pca = PCA(n_components='mle')\n",
    "    #pca = PCA(n_components=20)\n",
    "    pca.fit(x_train)\n",
    "    print(\"pca.components_\",pca.components_.shape)\n",
    "    x_train_reduction = pca.transform(x_train)\n",
    "    print(\"chang_x_train\",x_train_reduction.shape)\n",
    "    x_test_reduction = pca.transform(x_test)\n",
    "    print(\"chang_x_test\", x_train_reduction.shape)\n",
    "    lr = LDA()\n",
    "    lr.fit(x_train_reduction, y_train)\n",
    "    #test_accuracy_lda_pca.append(lr.score(x_test_reduction, y_test))\n",
    "    print(\"pca+lda\", lr.score(x_test_reduction, y_test))\n",
    "    \"\"\"\n",
    "    PCA+SVM\n",
    "    \"\"\"\n",
    "    clf_svc = svm.SVC()\n",
    "    clf_svc.fit(x_train_reduction, y_train)\n",
    "    #test_svc_pca.append(clf_svc.score(x_test_reduction,y_test))\n",
    "    print(\"pca+svc:\",clf_svc.score(x_test_reduction,y_test))"
   ]
  },
  {
   "cell_type": "code",
   "execution_count": 4,
   "id": "956b11fa-a69e-49a7-a55a-dd28d6f91c3e",
   "metadata": {},
   "outputs": [],
   "source": [
    "path_train = '/home/hjx/Mix_GENEO/train_mnist_mixGENEO/multiland_output/'\n",
    "path_test = '/home/hjx/Mix_GENEO/test_mnist_mixGENEO/multiland_output/'"
   ]
  },
  {
   "cell_type": "code",
   "execution_count": 5,
   "id": "1aae945c-c39d-4bba-991b-c24e2dee663c",
   "metadata": {},
   "outputs": [
    {
     "name": "stdout",
     "output_type": "stream",
     "text": [
      "60000\n",
      "LDAaccuracy: 0.1134\n",
      "pca.components_ (497, 1352)\n",
      "chang_x_train (60000, 497)\n",
      "chang_x_test (60000, 497)\n",
      "pca+lda 0.7301\n",
      "pca+svc: 0.7876\n"
     ]
    }
   ],
   "source": [
    "get_file_both_h0_h1(path_train,path_test, 1)"
   ]
  },
  {
   "cell_type": "code",
   "execution_count": 6,
   "id": "3640ad71-052a-4f7d-a11d-67d9c5f9cc57",
   "metadata": {},
   "outputs": [],
   "source": [
    "def get_file_h0(path1, path2, indice):\n",
    "    path_h0_train = path1 + \"multiland_output_h0/\"\n",
    "    path_h0_test = path2 + \"multiland_output_h0/\"\n",
    "    X_train = []\n",
    "    X_test = []\n",
    "    multiland_files_train_h0 = os.listdir(path_h0_train)\n",
    "    multiland_files_test_h0 = os.listdir(path_h0_test)\n",
    "    multiland_files_train_h0.sort(key=lambda x: int(x[9:].split('_')[0]))\n",
    "    multiland_files_test_h0.sort(key=lambda x: int(x[9:].split('_')[0]))\n",
    "    for x in multiland_files_train_h0:\n",
    "        multi_train_h0 = np.load(path_h0_train+x)[indice]\n",
    "        X_train.append(multi_train_h0.flatten())\n",
    "    for z in multiland_files_test_h0:\n",
    "        multi_test_h0 = np.load(path_h0_test+z)[indice]\n",
    "        X_test.append(multi_test_h0.flatten())\n",
    "    print(len(X_train))\n",
    "    x_train = np.array(X_train)\n",
    "    x_test = np.array(X_test)\n",
    "    \n",
    "    \"\"\"\n",
    "    LDA\n",
    "    \"\"\"\n",
    "    lr = LDA()\n",
    "    lr.fit(x_train, y_train)\n",
    "    print(\"LDAaccuracy:\", lr.score(x_test, y_test))\n",
    "    \"\"\"\n",
    "    LDA+PCA\n",
    "    \"\"\"\n",
    "    pca = PCA(n_components='mle')\n",
    "    #pca = PCA(n_components=20)\n",
    "    pca.fit(x_train)\n",
    "    print(\"pca.components_\",pca.components_.shape)\n",
    "    x_train_reduction = pca.transform(x_train)\n",
    "    print(\"chang_x_train\",x_train_reduction.shape)\n",
    "    x_test_reduction = pca.transform(x_test)\n",
    "    print(\"chang_x_test\", x_train_reduction.shape)\n",
    "    lr = LDA()\n",
    "    lr.fit(x_train_reduction, y_train)\n",
    "    #test_accuracy_lda_pca.append(lr.score(x_test_reduction, y_test))\n",
    "    print(\"pca+lda\", lr.score(x_test_reduction, y_test))\n",
    "    \"\"\"\n",
    "    PCA+SVM\n",
    "    \"\"\"\n",
    "    clf_svc = svm.SVC()\n",
    "    clf_svc.fit(x_train_reduction, y_train)\n",
    "    #test_svc_pca.append(clf_svc.score(x_test_reduction,y_test))\n",
    "    print(\"pca+svc:\",clf_svc.score(x_test_reduction,y_test))"
   ]
  },
  {
   "cell_type": "code",
   "execution_count": 7,
   "id": "8c86c381-52c8-46c4-8b09-f7b61c3916fc",
   "metadata": {},
   "outputs": [
    {
     "name": "stdout",
     "output_type": "stream",
     "text": [
      "60000\n",
      "LDAaccuracy: 0.0979\n",
      "pca.components_ (298, 676)\n",
      "chang_x_train (60000, 298)\n",
      "chang_x_test (60000, 298)\n",
      "pca+lda 0.6435\n",
      "pca+svc: 0.6781\n"
     ]
    }
   ],
   "source": [
    "get_file_h0(path_train,path_test, 1)"
   ]
  },
  {
   "cell_type": "code",
   "execution_count": 8,
   "id": "9a833134-1cef-433a-9950-3fa637f1d317",
   "metadata": {},
   "outputs": [],
   "source": [
    "def get_file_h1(path1, path2, indice):\n",
    "    path_h1_train = path1 + \"multiland_output_h1/\"\n",
    "    path_h1_test = path2 + \"multiland_output_h1/\"\n",
    "    X_train = []\n",
    "    X_test = []\n",
    "    multiland_files_train_h1 = os.listdir(path_h1_train)\n",
    "    multiland_files_test_h1 = os.listdir(path_h1_test)\n",
    "    multiland_files_train_h1.sort(key=lambda x: int(x[9:].split('_')[0]))\n",
    "    multiland_files_test_h1.sort(key=lambda x: int(x[9:].split('_')[0]))\n",
    "    for x in multiland_files_train_h1:\n",
    "        multi_train_h1 = np.load(path_h1_train+x)[indice]\n",
    "        X_train.append(multi_train_h1.flatten())\n",
    "    for z in multiland_files_test_h1:\n",
    "        multi_test_h1 = np.load(path_h1_test+z)[indice]\n",
    "        X_test.append(multi_test_h1.flatten())\n",
    "    print(len(X_train))\n",
    "    x_train = np.array(X_train)\n",
    "    x_test = np.array(X_test)\n",
    "    \n",
    "    \"\"\"\n",
    "    LDA\n",
    "    \"\"\"\n",
    "    lr = LDA()\n",
    "    lr.fit(x_train, y_train)\n",
    "    print(\"LDAaccuracy:\", lr.score(x_test, y_test))\n",
    "    \"\"\"\n",
    "    LDA+PCA\n",
    "    \"\"\"\n",
    "    pca = PCA(n_components='mle')\n",
    "    #pca = PCA(n_components=20)\n",
    "    pca.fit(x_train)\n",
    "    print(\"pca.components_\",pca.components_.shape)\n",
    "    x_train_reduction = pca.transform(x_train)\n",
    "    print(\"chang_x_train\",x_train_reduction.shape)\n",
    "    x_test_reduction = pca.transform(x_test)\n",
    "    print(\"chang_x_test\", x_train_reduction.shape)\n",
    "    lr = LDA()\n",
    "    lr.fit(x_train_reduction, y_train)\n",
    "    #test_accuracy_lda_pca.append(lr.score(x_test_reduction, y_test))\n",
    "    print(\"pca+lda\", lr.score(x_test_reduction, y_test))\n",
    "    \"\"\"\n",
    "    PCA+SVM\n",
    "    \"\"\"\n",
    "    clf_svc = svm.SVC()\n",
    "    clf_svc.fit(x_train_reduction, y_train)\n",
    "    #test_svc_pca.append(clf_svc.score(x_test_reduction,y_test))\n",
    "    print(\"pca+svc:\",clf_svc.score(x_test_reduction,y_test))"
   ]
  },
  {
   "cell_type": "code",
   "execution_count": 9,
   "id": "59cadf46-ebdb-48fb-9393-b9b2ead53b07",
   "metadata": {},
   "outputs": [
    {
     "name": "stdout",
     "output_type": "stream",
     "text": [
      "60000\n",
      "LDAaccuracy: 0.1921\n",
      "pca.components_ (200, 676)\n",
      "chang_x_train (60000, 200)\n",
      "chang_x_test (60000, 200)\n",
      "pca+lda 0.4674\n",
      "pca+svc: 0.5058\n"
     ]
    }
   ],
   "source": [
    "get_file_h1(path_train,path_test, 1)"
   ]
  },
  {
   "cell_type": "markdown",
   "id": "f02193c0-0896-4743-a617-b4fddebcec8d",
   "metadata": {},
   "source": [
    "Number 0~9 Mean Multilandscpe"
   ]
  },
  {
   "cell_type": "code",
   "execution_count": 10,
   "id": "ebbb2bde-d2e3-437b-841d-1a749ac6b45a",
   "metadata": {},
   "outputs": [],
   "source": [
    "\n",
    "# land_h1_9 = []\n",
    "for i in range(10):\n",
    "    locals()['land_train_h0_'+str(i)] = []\n",
    "    locals()['land_train_h1_'+str(i)] = []\n",
    "    locals()['land_test_h0_'+str(i)] = []\n",
    "    locals()['land_test_h1_'+str(i)] = []\n",
    "multifiles_train_h0=path_train + \"multiland_output_h0/\"\n",
    "multifiles_train_h1=path_train + \"multiland_output_h1/\"\n",
    "\n",
    "for index, value in enumerate(y_train):\n",
    "    #print(index)\n",
    "    indice = 1\n",
    "    locals()['land_train_h1_'+str(value)].append(np.load(multifiles_train_h1+'x_ctrain_{}_H1.npy'.format(index))[indice])\n",
    "    locals()['land_train_h0_'+str(value)].append(np.load(multifiles_train_h0+'x_ctrain_{}_H0.npy'.format(index))[indice])\n",
    "\n",
    "for i in range(10):\n",
    "    locals()['land_np_train_h0_'+str(i)] = np.array(locals()['land_train_h0_'+str(i)])\n",
    "    locals()['land_np_train_h1_'+str(i)] = np.array(locals()['land_train_h1_'+str(i)])\n",
    "    locals()['land_np_train_h0_'+str(i)] = np.mean(locals()['land_np_train_h0_'+str(i)],axis=0)\n",
    "    locals()['land_np_train_h1_'+str(i)] = np.mean(locals()['land_np_train_h1_'+str(i)],axis=0)\n"
   ]
  },
  {
   "cell_type": "code",
   "execution_count": 14,
   "id": "7ba91d97-0ce2-447d-aea6-79283d1bbbd2",
   "metadata": {},
   "outputs": [
    {
     "data": {
      "image/png": "[encoded data removed]",
      "text/plain": [
       "<Figure size 1300x500 with 10 Axes>"
      ]
     },
     "metadata": {},
     "output_type": "display_data"
    }
   ],
   "source": [
    "f, axes = plt.subplots(2,5,figsize=(13,5))\n",
    "for i in range(10):\n",
    "    ax = plt.subplot(2,5,i+1)\n",
    "    ax.set_yticks([0,13, 26])\n",
    "    ax.set_xticks([0,13, 26])\n",
    "    ax.set_yticklabels([0,13, 26])\n",
    "    ax.set_xticklabels([26,13, 0])\n",
    "    ax.set_xlabel(\"G0\",fontsize=8)\n",
    "    ax.set_ylabel(\"G1-G2\",fontsize=8)\n",
    "    ax.set_title(f\"{i} H1 Average Landscape\", fontsize=8)\n",
    "    #ax.imshow(locals()['land_np_train_h1_'+str(i)], cmap=\"viridis\", vmax=1, vmin=0)\n",
    "    ax.imshow(locals()['land_np_train_h1_'+str(i)], cmap=\"viridis\",vmax=30,vmin=0)"
   ]
  },
  {
   "cell_type": "code",
   "execution_count": 16,
   "id": "daa3b9c9-9605-46d8-888b-5e33a8feaa5a",
   "metadata": {},
   "outputs": [
    {
     "data": {
      "image/png": "[encoded data removed]",
      "text/plain": [
       "<Figure size 1500x500 with 10 Axes>"
      ]
     },
     "metadata": {},
     "output_type": "display_data"
    }
   ],
   "source": [
    "f, axes = plt.subplots(2,5,figsize=(15,5))\n",
    "for i in range(10):\n",
    "    ax = plt.subplot(2,5,i+1)\n",
    "    ax.set_yticks([0,13, 26])\n",
    "    ax.set_xticks([0,13, 26])\n",
    "    ax.set_yticklabels([0,13, 26])\n",
    "    ax.set_xticklabels([26,13, 0])\n",
    "    ax.set_xlabel(\"G0\",fontsize=8)\n",
    "    ax.set_ylabel(\"G1-G2\",fontsize=8)\n",
    "    ax.set_title(f\"{i} H0 Average Landscape\", fontsize=8)\n",
    "    #ax.imshow(locals()['land_np_train_h0_'+str(i)], cmap=\"viridis\", vmax=1, vmin=0)\n",
    "    ax.imshow(locals()['land_np_train_h0_'+str(i)], cmap=\"viridis\",vmax=20, vmin=0)"
   ]
  },
  {
   "cell_type": "markdown",
   "id": "9a7f859d-eab7-4030-b134-0987a9d0ac38",
   "metadata": {},
   "source": [
    "Binary Classification"
   ]
  },
  {
   "cell_type": "code",
   "execution_count": 17,
   "id": "6a1a343f-9df8-44ff-9c4f-68bc3206e852",
   "metadata": {},
   "outputs": [],
   "source": [
    "from sklearn import svm\n",
    "\n",
    "multifiles_train_h0=path_train + \"multiland_output_h0/\"\n",
    "multifiles_train_h1=path_train + \"multiland_output_h1/\"\n",
    "multifiles_test_h0=path_test + \"multiland_output_h0/\"\n",
    "multifiles_test_h1=path_test + \"multiland_output_h1/\"\n",
    "\n",
    "def compare_number(index1,index2,indice):\n",
    "    num1_train = np.sum(y_train==index1)\n",
    "    num2_train = np.sum(y_train==index2)\n",
    "    num1_test = np.sum(y_test==index1)\n",
    "    num2_test = np.sum(y_test==index2)\n",
    "    Y_train = np.zeros(num1_train+num2_train)\n",
    "    Y_train[num1_train:]=1\n",
    "    Y_test = np.zeros(num1_test+num2_test)\n",
    "    Y_test[num1_test:]=1\n",
    "    Itr1 = np.where(y_train==index1)\n",
    "    Itr2 = np.where(y_train==index2)\n",
    "    Ite1 = np.where(y_test==index1)\n",
    "    Ite2 = np.where(y_test==index2)\n",
    "    X_train = []\n",
    "    X_test = []\n",
    "    for j in Itr1[0]:\n",
    "        #print(j)\n",
    "        multi_tr_h0 = np.load(multifiles_train_h0+'x_ctrain_{}_H0.npy'.format(j))[indice]\n",
    "        multi_tr_h1 = np.load(multifiles_train_h1+'x_ctrain_{}_H1.npy'.format(j))[indice]\n",
    "        multi_train = np.append(multi_tr_h0,multi_tr_h1,axis=0)\n",
    "        X_train.append(multi_train.flatten())\n",
    "        #print(X_tr_h0)\n",
    "    for j in Itr2[0]:\n",
    "        multi_tr_h0 = np.load(multifiles_train_h0+'x_ctrain_{}_H0.npy'.format(j))[indice]\n",
    "        multi_tr_h1 = np.load(multifiles_train_h1+'x_ctrain_{}_H1.npy'.format(j))[indice]\n",
    "        multi_train = np.append(multi_tr_h0,multi_tr_h1,axis=0)\n",
    "        X_train.append(multi_train.flatten())\n",
    "    for j in Ite1[0]:\n",
    "        multi_te_h0 = np.load(multifiles_test_h0+'x_ctrain_{}_H0.npy'.format(j))[indice]\n",
    "        multi_te_h1 = np.load(multifiles_test_h1+'x_ctrain_{}_H1.npy'.format(j))[indice]\n",
    "        multi_test = np.append(multi_te_h0,multi_te_h1,axis=0)\n",
    "        X_test.append(multi_test.flatten())\n",
    "    for j in Ite2[0]:\n",
    "        multi_te_h0 = np.load(multifiles_test_h0+'x_ctrain_{}_H0.npy'.format(j))[indice]\n",
    "        multi_te_h1 = np.load(multifiles_test_h1+'x_ctrain_{}_H1.npy'.format(j))[indice]\n",
    "        multi_test = np.append(multi_te_h0,multi_te_h1,axis=0)\n",
    "        X_test.append(multi_test.flatten())\n",
    "    \"\"\"\n",
    "    LDA\n",
    "    \"\"\"\n",
    "    lr = LDA()\n",
    "    lr.fit(X_train, Y_train)\n",
    "    print(\"LDAaccuracy:\", lr.score(X_test, Y_test))\n",
    "    \"\"\"\n",
    "    LDA+PCA\n",
    "    \"\"\"\n",
    "    pca = PCA(n_components=0.98)\n",
    "    pca.fit(X_train)\n",
    "    print(\"pca.components_\",pca.components_.shape)\n",
    "    X_train_reduction = pca.transform(X_train)\n",
    "    print(\"chang_x_train\",X_train_reduction.shape)\n",
    "    X_test_reduction = pca.transform(X_test)\n",
    "    print(\"chang_x_test\", X_train_reduction.shape)\n",
    "    lr = LDA()\n",
    "    lr.fit(X_train_reduction, Y_train)\n",
    "    #test_accuracy_lda_pca.append(lr.score(x_test_reduction, y_test))\n",
    "    print(\"pca+lda\", lr.score(X_test_reduction, Y_test))\n",
    "    \"\"\"\n",
    "    PCA+SVM\n",
    "    \"\"\"\n",
    "    clf_svc = svm.SVC()\n",
    "    clf_svc.fit(X_train_reduction, Y_train)\n",
    "    print(\"svc:\", clf_svc.score(X_test_reduction, Y_test))"
   ]
  },
  {
   "cell_type": "code",
   "execution_count": 18,
   "id": "b7af14bd-6a5f-4a6c-b8b5-3611788b634d",
   "metadata": {},
   "outputs": [
    {
     "name": "stdout",
     "output_type": "stream",
     "text": [
      "LDAaccuracy: 0.9952718676122931\n",
      "pca.components_ (34, 1352)\n",
      "chang_x_train (12665, 34)\n",
      "chang_x_test (12665, 34)\n",
      "pca+lda 0.9919621749408983\n",
      "svc: 0.9943262411347518\n"
     ]
    }
   ],
   "source": [
    "compare_number(0,1,1)"
   ]
  },
  {
   "cell_type": "code",
   "execution_count": 19,
   "id": "1e74fb30-3fb2-4ed3-8558-ab2b58869e94",
   "metadata": {},
   "outputs": [
    {
     "name": "stdout",
     "output_type": "stream",
     "text": [
      "LDAaccuracy: 0.934926283680732\n",
      "pca.components_ (72, 1352)\n",
      "chang_x_train (11867, 72)\n",
      "chang_x_test (11867, 72)\n",
      "pca+lda 0.9166243009659379\n",
      "svc: 0.9410269445856635\n"
     ]
    }
   ],
   "source": [
    "compare_number(6,9,1)"
   ]
  },
  {
   "cell_type": "code",
   "execution_count": 20,
   "id": "c24ca9f1-f139-4366-9727-5732f957e9a2",
   "metadata": {},
   "outputs": [
    {
     "name": "stdout",
     "output_type": "stream",
     "text": [
      "LDAaccuracy: 0.9869463869463869\n",
      "pca.components_ (61, 1352)\n",
      "chang_x_train (12873, 61)\n",
      "chang_x_test (12873, 61)\n",
      "pca+lda 0.9832167832167832\n",
      "svc: 0.9911421911421912\n"
     ]
    }
   ],
   "source": [
    "compare_number(1,3,1)"
   ]
  },
  {
   "cell_type": "code",
   "execution_count": 21,
   "id": "d1596015-9b90-45d9-970f-527a31c0dd16",
   "metadata": {},
   "outputs": [
    {
     "name": "stdout",
     "output_type": "stream",
     "text": [
      "LDAaccuracy: 0.9759593157651411\n",
      "pca.components_ (63, 1352)\n",
      "chang_x_train (13007, 63)\n",
      "chang_x_test (13007, 63)\n",
      "pca+lda 0.965788257050393\n",
      "svc: 0.9741100323624595\n"
     ]
    }
   ],
   "source": [
    "compare_number(1,7,1)"
   ]
  },
  {
   "cell_type": "code",
   "execution_count": 22,
   "id": "6c2fba55-e273-46bc-a76c-82865ba15844",
   "metadata": {},
   "outputs": [
    {
     "name": "stdout",
     "output_type": "stream",
     "text": [
      "LDAaccuracy: 0.9000979431929481\n",
      "pca.components_ (87, 1352)\n",
      "chang_x_train (12089, 87)\n",
      "chang_x_test (12089, 87)\n",
      "pca+lda 0.8604309500489716\n",
      "svc: 0.901077375122429\n"
     ]
    }
   ],
   "source": [
    "compare_number(2,3,1)"
   ]
  },
  {
   "cell_type": "code",
   "execution_count": 23,
   "id": "edc0e2d7-a26b-4ecd-9a4a-4382d0ebe85c",
   "metadata": {},
   "outputs": [
    {
     "name": "stdout",
     "output_type": "stream",
     "text": [
      "LDAaccuracy: 0.9577991452991453\n",
      "pca.components_ (57, 1352)\n",
      "chang_x_train (11344, 57)\n",
      "chang_x_test (11344, 57)\n",
      "pca+lda 0.9535256410256411\n",
      "svc: 0.9652777777777778\n"
     ]
    }
   ],
   "source": [
    "compare_number(0,5,1)"
   ]
  },
  {
   "cell_type": "code",
   "execution_count": 26,
   "id": "2306e6ab-6b0e-467b-b9a2-c3bbc0c064a4",
   "metadata": {},
   "outputs": [
    {
     "data": {
      "image/png": "[encoded data removed]",
      "text/plain": [
       "<Figure size 1500x500 with 5 Axes>"
      ]
     },
     "metadata": {},
     "output_type": "display_data"
    }
   ],
   "source": [
    "f, axes = plt.subplots(1,5,figsize=(15,5))\n",
    "L = [0,1,3,6,9]\n",
    "J=  [1,2,3,4,5]\n",
    "for l,j in zip(L,J):\n",
    "    ax = plt.subplot(1,5,j)\n",
    "    ax.set_yticks([0,13, 26])\n",
    "    ax.set_xticks([0,13, 26])\n",
    "    ax.set_yticklabels([0,13, 26])\n",
    "    ax.set_xticklabels([26,13, 0])\n",
    "    ax.set_xlabel(\"G0\",fontsize=8)\n",
    "    ax.set_ylabel(\"G1-G2\",fontsize=8)\n",
    "    ax.set_title(f\"{l} H0 Average Landscape\", fontsize=8)\n",
    "    ax.imshow(locals()['land_np_train_h0_'+str(l)], cmap=\"viridis\", vmax=20, vmin=0)"
   ]
  },
  {
   "cell_type": "code",
   "execution_count": 27,
   "id": "c789735b-e588-40b9-81b1-f10d4ae04cda",
   "metadata": {},
   "outputs": [
    {
     "data": {
      "image/png": "[encoded data removed]",
      "text/plain": [
       "<Figure size 1500x500 with 5 Axes>"
      ]
     },
     "metadata": {},
     "output_type": "display_data"
    }
   ],
   "source": [
    "f, axes = plt.subplots(1,5,figsize=(15,5))\n",
    "L = [0,1,3,6,9]\n",
    "J=  [1,2,3,4,5]\n",
    "for l,j in zip(L,J):\n",
    "    ax = plt.subplot(1,5,j)\n",
    "    ax.set_yticks([0,13, 26])\n",
    "    ax.set_xticks([0,13, 26])\n",
    "    ax.set_yticklabels([0,13, 26])\n",
    "    ax.set_xticklabels([26,13, 0])\n",
    "    ax.set_xlabel(\"G0\",fontsize=8)\n",
    "    ax.set_ylabel(\"G1-G2\",fontsize=8)\n",
    "    ax.set_title(f\"{l} H0 Average Landscape\", fontsize=8)\n",
    "    ax.imshow(locals()['land_np_train_h1_'+str(l)], cmap=\"viridis\", vmax=30, vmin=0)"
   ]
  },
  {
   "cell_type": "code",
   "execution_count": 28,
   "id": "09aa7ed5-c019-4fe7-906e-682d94e73e79",
   "metadata": {},
   "outputs": [],
   "source": [
    "from sklearn import svm\n",
    "\n",
    "multifiles_train_h0=path_train + \"multiland_output_h0/\"\n",
    "multifiles_test_h0=path_test + \"multiland_output_h0/\"\n",
    "\n",
    "def compare_number_h0(index1,index2,indice):\n",
    "    num1_train = np.sum(y_train==index1)\n",
    "    num2_train = np.sum(y_train==index2)\n",
    "    num1_test = np.sum(y_test==index1)\n",
    "    num2_test = np.sum(y_test==index2)\n",
    "    Y_train = np.zeros(num1_train+num2_train)\n",
    "    Y_train[num1_train:]=1\n",
    "    Y_test = np.zeros(num1_test+num2_test)\n",
    "    Y_test[num1_test:]=1\n",
    "    Itr1 = np.where(y_train==index1)\n",
    "    Itr2 = np.where(y_train==index2)\n",
    "    Ite1 = np.where(y_test==index1)\n",
    "    Ite2 = np.where(y_test==index2)\n",
    "    X_train = []\n",
    "    X_test = []\n",
    "    for j in Itr1[0]:\n",
    "        #print(j)\n",
    "        multi_tr_h0 = np.load(multifiles_train_h0+'x_ctrain_{}_H0.npy'.format(j))[indice]\n",
    "        X_train.append(multi_tr_h0.flatten())\n",
    "        #print(X_tr_h0)\n",
    "    for j in Itr2[0]:\n",
    "        multi_tr_h0 = np.load(multifiles_train_h0+'x_ctrain_{}_H0.npy'.format(j))[indice]\n",
    "        X_train.append(multi_tr_h0.flatten())\n",
    "    for j in Ite1[0]:\n",
    "        multi_te_h0 = np.load(multifiles_test_h0+'x_ctrain_{}_H0.npy'.format(j))[indice]\n",
    "        X_test.append(multi_te_h0.flatten())\n",
    "    for j in Ite2[0]:\n",
    "        multi_te_h0 = np.load(multifiles_test_h0+'x_ctrain_{}_H0.npy'.format(j))[indice]\n",
    "        X_test.append(multi_te_h0.flatten())\n",
    "    \"\"\"\n",
    "    LDA\n",
    "    \"\"\"\n",
    "    lr = LDA()\n",
    "    lr.fit(X_train, Y_train)\n",
    "    print(\"LDAaccuracy:\", lr.score(X_test, Y_test))\n",
    "    \"\"\"\n",
    "    LDA+PCA\n",
    "    \"\"\"\n",
    "    pca = PCA(n_components=0.98)\n",
    "    #pca = PCA(n_components=20)\n",
    "    pca.fit(X_train)\n",
    "    print(\"pca.components_\",pca.components_.shape)\n",
    "    X_train_reduction = pca.transform(X_train)\n",
    "    print(\"chang_x_train\",X_train_reduction.shape)\n",
    "    X_test_reduction = pca.transform(X_test)\n",
    "    print(\"chang_x_test\", X_train_reduction.shape)\n",
    "    lr = LDA()\n",
    "    lr.fit(X_train_reduction, Y_train)\n",
    "    #test_accuracy_lda_pca.append(lr.score(x_test_reduction, y_test))\n",
    "    print(\"pca+lda\", lr.score(X_test_reduction, Y_test))\n",
    "    \"\"\"\n",
    "    PCA+SVM\n",
    "    \"\"\"\n",
    "    clf_svc = svm.SVC()\n",
    "    clf_svc.fit(X_train_reduction, Y_train)\n",
    "    print(\"svc:\", clf_svc.score(X_test_reduction, Y_test))"
   ]
  },
  {
   "cell_type": "code",
   "execution_count": 29,
   "id": "91a15e55-7ee3-4078-b24a-21241b93a249",
   "metadata": {},
   "outputs": [
    {
     "name": "stdout",
     "output_type": "stream",
     "text": [
      "LDAaccuracy: 0.9905437352245863\n",
      "pca.components_ (18, 676)\n",
      "chang_x_train (12665, 18)\n",
      "chang_x_test (12665, 18)\n",
      "pca+lda 0.983451536643026\n",
      "svc: 0.9929078014184397\n"
     ]
    }
   ],
   "source": [
    "compare_number_h0(0,1,1)"
   ]
  },
  {
   "cell_type": "code",
   "execution_count": 30,
   "id": "88b63f9d-0273-41b1-b0dc-97236a3fe433",
   "metadata": {},
   "outputs": [
    {
     "name": "stdout",
     "output_type": "stream",
     "text": [
      "LDAaccuracy: 0.958041958041958\n",
      "pca.components_ (55, 676)\n",
      "chang_x_train (12873, 55)\n",
      "chang_x_test (12873, 55)\n",
      "pca+lda 0.9505827505827505\n",
      "svc: 0.9617715617715618\n"
     ]
    }
   ],
   "source": [
    "compare_number_h0(1,3,1)"
   ]
  },
  {
   "cell_type": "code",
   "execution_count": 31,
   "id": "d5fe41e0-260d-4588-85e1-84150b7c804a",
   "metadata": {},
   "outputs": [
    {
     "name": "stdout",
     "output_type": "stream",
     "text": [
      "LDAaccuracy: 0.8291814946619217\n",
      "pca.components_ (46, 676)\n",
      "chang_x_train (11867, 46)\n",
      "chang_x_test (11867, 46)\n",
      "pca+lda 0.768174885612608\n",
      "svc: 0.8393492628368073\n"
     ]
    }
   ],
   "source": [
    "compare_number_h0(6,9,1)"
   ]
  },
  {
   "cell_type": "code",
   "execution_count": 32,
   "id": "b44752c9-db94-4e9a-a7fd-6a1ec1cc29c8",
   "metadata": {},
   "outputs": [],
   "source": [
    "from sklearn import svm\n",
    "\n",
    "multifiles_train_h1=path_train + \"multiland_output_h1/\"\n",
    "multifiles_test_h1=path_test + \"multiland_output_h1/\"\n",
    "\n",
    "def compare_number_h1(index1,index2,indice):\n",
    "    num1_train = np.sum(y_train==index1)\n",
    "    num2_train = np.sum(y_train==index2)\n",
    "    num1_test = np.sum(y_test==index1)\n",
    "    num2_test = np.sum(y_test==index2)\n",
    "    Y_train = np.zeros(num1_train+num2_train)\n",
    "    Y_train[num1_train:]=1\n",
    "    Y_test = np.zeros(num1_test+num2_test)\n",
    "    Y_test[num1_test:]=1\n",
    "    Itr1 = np.where(y_train==index1)\n",
    "    Itr2 = np.where(y_train==index2)\n",
    "    Ite1 = np.where(y_test==index1)\n",
    "    Ite2 = np.where(y_test==index2)\n",
    "    X_train = []\n",
    "    X_test = []\n",
    "    for j in Itr1[0]:\n",
    "        #print(j)\n",
    "        multi_tr_h1 = np.load(multifiles_train_h1+'x_ctrain_{}_H1.npy'.format(j))[indice]\n",
    "        X_train.append(multi_tr_h1.flatten())\n",
    "        #print(X_tr_h0)\n",
    "    for j in Itr2[0]:\n",
    "        multi_tr_h1 = np.load(multifiles_train_h1+'x_ctrain_{}_H1.npy'.format(j))[indice]\n",
    "        X_train.append(multi_tr_h1.flatten())\n",
    "    for j in Ite1[0]:\n",
    "        multi_te_h1 = np.load(multifiles_test_h1+'x_ctrain_{}_H1.npy'.format(j))[indice]\n",
    "        X_test.append(multi_te_h1.flatten())\n",
    "    for j in Ite2[0]:\n",
    "        multi_te_h1 = np.load(multifiles_test_h1+'x_ctrain_{}_H1.npy'.format(j))[indice]\n",
    "        X_test.append(multi_te_h1.flatten())\n",
    "    \"\"\"\n",
    "    LDA\n",
    "    \"\"\"\n",
    "    lr = LDA()\n",
    "    lr.fit(X_train, Y_train)\n",
    "    print(\"LDAaccuracy:\", lr.score(X_test, Y_test))\n",
    "    \"\"\"\n",
    "    LDA+PCA\n",
    "    \"\"\"\n",
    "    pca = PCA(n_components=0.98)\n",
    "    #pca = PCA(n_components=20)\n",
    "    pca.fit(X_train)\n",
    "    print(\"pca.components_\",pca.components_.shape)\n",
    "    X_train_reduction = pca.transform(X_train)\n",
    "    print(\"chang_x_train\",X_train_reduction.shape)\n",
    "    X_test_reduction = pca.transform(X_test)\n",
    "    print(\"chang_x_test\", X_train_reduction.shape)\n",
    "    lr = LDA()\n",
    "    lr.fit(X_train_reduction, Y_train)\n",
    "    #test_accuracy_lda_pca.append(lr.score(x_test_reduction, y_test))\n",
    "    print(\"pca+lda\", lr.score(X_test_reduction, Y_test))\n",
    "    \"\"\"\n",
    "    PCA+SVM\n",
    "    \"\"\"\n",
    "    clf_svc = svm.SVC()\n",
    "    clf_svc.fit(X_train_reduction, Y_train)\n",
    "    print(\"svc:\", clf_svc.score(X_test_reduction, Y_test))"
   ]
  },
  {
   "cell_type": "code",
   "execution_count": 15,
   "id": "75a04e7d-4c2b-4d5f-8e1e-4d5647384055",
   "metadata": {},
   "outputs": [
    {
     "name": "stdout",
     "output_type": "stream",
     "text": [
      "LDAaccuracy: 0.9617021276595744\n",
      "pca.components_ (6, 676)\n",
      "chang_x_train (12665, 6)\n",
      "chang_x_test (12665, 6)\n",
      "pca+lda 0.9617021276595744\n",
      "svc: 0.9617021276595744\n"
     ]
    }
   ],
   "source": [
    "compare_number_h1(0,1,1)"
   ]
  },
  {
   "cell_type": "code",
   "execution_count": 16,
   "id": "dc730aae-247f-4ca3-bdca-dbf572956c9f",
   "metadata": {},
   "outputs": [
    {
     "name": "stdout",
     "output_type": "stream",
     "text": [
      "LDAaccuracy: 0.8433566433566434\n",
      "pca.components_ (9, 676)\n",
      "chang_x_train (12873, 9)\n",
      "chang_x_test (12873, 9)\n",
      "pca+lda 0.8256410256410256\n",
      "svc: 0.8419580419580419\n"
     ]
    }
   ],
   "source": [
    "compare_number_h1(1,3,1)"
   ]
  },
  {
   "cell_type": "code",
   "execution_count": 17,
   "id": "26d89f6c-840c-4907-b809-8799380d4d3b",
   "metadata": {},
   "outputs": [
    {
     "name": "stdout",
     "output_type": "stream",
     "text": [
      "LDAaccuracy: 0.6832740213523132\n",
      "pca.components_ (8, 676)\n",
      "chang_x_train (11867, 8)\n",
      "chang_x_test (11867, 8)\n",
      "pca+lda 0.6624300965937977\n",
      "svc: 0.6659888154550077\n"
     ]
    }
   ],
   "source": [
    "compare_number_h1(6,9,1)"
   ]
  },
  {
   "cell_type": "code",
   "execution_count": null,
   "id": "d438f50c-71f5-46c5-91ab-036aa050f8c0",
   "metadata": {},
   "outputs": [],
   "source": []
  }
 ],
 "metadata": {
  "kernelspec": {
   "display_name": "one_env",
   "language": "python",
   "name": "one_env"
  },
  "language_info": {
   "codemirror_mode": {
    "name": "ipython",
    "version": 3
   },
   "file_extension": ".py",
   "mimetype": "text/x-python",
   "name": "python",
   "nbconvert_exporter": "python",
   "pygments_lexer": "ipython3",
   "version": "3.7.16"
  }
 },
 "nbformat": 4,
 "nbformat_minor": 5
}
